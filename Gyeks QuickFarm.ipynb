{
 "cells": [
  {
   "cell_type": "markdown",
   "id": "7597307b-1747-49e7-9739-700bb571dd63",
   "metadata": {},
   "source": [
    "# ANALYSIS ON GYEKS QuickFarm\n",
    "Gyeks QuickFarm is an e-commerce business that sources and delivers locally produced fresh farm produce directly to customers. The objective of this analysis is to derive actionable insights from six provided CSV datasets, which seeks to:\n",
    "* Identify the most effective marketing channels.\n",
    "* Determine the most preferred customer payment method.\n",
    "* Highlight the most in-demand farm products.\n",
    "* Pinpoint the area with the highest customer segment.\n"
   ]
  },
  {
   "cell_type": "markdown",
   "id": "4987a892-2538-462d-8a28-25ac8c5f2139",
   "metadata": {},
   "source": [
    "### NOTEBOOK SETUP"
   ]
  },
  {
   "cell_type": "code",
   "execution_count": 349,
   "id": "a166dd74-5f59-4832-87e1-15b508322788",
   "metadata": {},
   "outputs": [],
   "source": [
    "# Import Libraries\n",
    "import pandas as pd \n",
    "import numpy as np\n",
    "import matplotlib.pyplot as plt\n",
    "import seaborn as sns\n"
   ]
  },
  {
   "cell_type": "markdown",
   "id": "c6a1ee86-339e-4e6a-aede-db8b2ccc0974",
   "metadata": {},
   "source": [
    "### LOAD CSV FILES"
   ]
  },
  {
   "cell_type": "code",
   "execution_count": 350,
   "id": "825d30aa-a722-43da-b511-f2dd18993e36",
   "metadata": {},
   "outputs": [],
   "source": [
    "feedback = pd.read_csv(r\"C:\\Users\\hp\\Music\\DATA ANALYSIS\\blinkit_customer_feedback.csv\")"
   ]
  },
  {
   "cell_type": "code",
   "execution_count": 351,
   "id": "85072ff0-7d01-43a0-9692-7fe9a896284e",
   "metadata": {},
   "outputs": [],
   "source": [
    "customers = pd.read_csv(r\"C:\\Users\\hp\\Music\\DATA ANALYSIS\\blinkit_customers.csv\")"
   ]
  },
  {
   "cell_type": "code",
   "execution_count": 352,
   "id": "871dbc26-45d8-46cc-959b-f460d7c74b83",
   "metadata": {},
   "outputs": [],
   "source": [
    "marketing = pd.read_csv(r\"C:\\Users\\hp\\Music\\DATA ANALYSIS\\blinkit_marketing_performance.csv\")"
   ]
  },
  {
   "cell_type": "code",
   "execution_count": 353,
   "id": "d45a3c64-5e6b-4acb-9d19-997a75cf5b4a",
   "metadata": {},
   "outputs": [],
   "source": [
    "order_item =pd.read_csv(r\"C:\\Users\\hp\\Music\\DATA ANALYSIS\\blinkit_order_items.csv\")"
   ]
  },
  {
   "cell_type": "code",
   "execution_count": 354,
   "id": "f516b731-d379-42f9-91d7-2f2db2faee12",
   "metadata": {},
   "outputs": [],
   "source": [
    "order = pd.read_csv(r\"C:\\Users\\hp\\Music\\DATA ANALYSIS\\blinkit_orders.csv\")"
   ]
  },
  {
   "cell_type": "code",
   "execution_count": 355,
   "id": "e2082081-a9c5-4c94-a632-a8168b6ebd4b",
   "metadata": {},
   "outputs": [],
   "source": [
    "product = pd.read_csv(r\"C:\\Users\\hp\\Music\\DATA ANALYSIS\\blinkit_products.csv\")"
   ]
  },
  {
   "cell_type": "markdown",
   "id": "9568e8f3-b56c-40b5-8e78-8c6c2ce2f24f",
   "metadata": {},
   "source": [
    "### DATA EXPLORATION AND UNDERSTANDING"
   ]
  },
  {
   "cell_type": "code",
   "execution_count": 356,
   "id": "adbe2b22-da67-4aa1-8924-e0ba38c4c180",
   "metadata": {
    "collapsed": true,
    "jupyter": {
     "outputs_hidden": true
    }
   },
   "outputs": [
    {
     "data": {
      "text/html": [
       "<div>\n",
       "<style scoped>\n",
       "    .dataframe tbody tr th:only-of-type {\n",
       "        vertical-align: middle;\n",
       "    }\n",
       "\n",
       "    .dataframe tbody tr th {\n",
       "        vertical-align: top;\n",
       "    }\n",
       "\n",
       "    .dataframe thead th {\n",
       "        text-align: right;\n",
       "    }\n",
       "</style>\n",
       "<table border=\"1\" class=\"dataframe\">\n",
       "  <thead>\n",
       "    <tr style=\"text-align: right;\">\n",
       "      <th></th>\n",
       "      <th>feedback_id</th>\n",
       "      <th>order_id</th>\n",
       "      <th>customer_id</th>\n",
       "      <th>rating</th>\n",
       "      <th>feedback_text</th>\n",
       "      <th>feedback_category</th>\n",
       "      <th>sentiment</th>\n",
       "      <th>feedback_date</th>\n",
       "    </tr>\n",
       "  </thead>\n",
       "  <tbody>\n",
       "    <tr>\n",
       "      <th>0</th>\n",
       "      <td>2234710</td>\n",
       "      <td>1961864118</td>\n",
       "      <td>30065862</td>\n",
       "      <td>4</td>\n",
       "      <td>It was okay, nothing special.</td>\n",
       "      <td>Delivery</td>\n",
       "      <td>Neutral</td>\n",
       "      <td>2024-07-17</td>\n",
       "    </tr>\n",
       "    <tr>\n",
       "      <th>1</th>\n",
       "      <td>5450964</td>\n",
       "      <td>1549769649</td>\n",
       "      <td>9573071</td>\n",
       "      <td>3</td>\n",
       "      <td>The order was incorrect.</td>\n",
       "      <td>App Experience</td>\n",
       "      <td>Negative</td>\n",
       "      <td>2024-05-28</td>\n",
       "    </tr>\n",
       "    <tr>\n",
       "      <th>2</th>\n",
       "      <td>482108</td>\n",
       "      <td>9185164487</td>\n",
       "      <td>45477575</td>\n",
       "      <td>3</td>\n",
       "      <td>It was okay, nothing special.</td>\n",
       "      <td>App Experience</td>\n",
       "      <td>Neutral</td>\n",
       "      <td>2024-09-23</td>\n",
       "    </tr>\n",
       "    <tr>\n",
       "      <th>3</th>\n",
       "      <td>4823104</td>\n",
       "      <td>9644738826</td>\n",
       "      <td>88067569</td>\n",
       "      <td>4</td>\n",
       "      <td>The product met my expectations.</td>\n",
       "      <td>App Experience</td>\n",
       "      <td>Neutral</td>\n",
       "      <td>2023-11-24</td>\n",
       "    </tr>\n",
       "    <tr>\n",
       "      <th>4</th>\n",
       "      <td>3537464</td>\n",
       "      <td>5427684290</td>\n",
       "      <td>83298567</td>\n",
       "      <td>3</td>\n",
       "      <td>Product was damaged during delivery.</td>\n",
       "      <td>Delivery</td>\n",
       "      <td>Negative</td>\n",
       "      <td>2023-11-20</td>\n",
       "    </tr>\n",
       "  </tbody>\n",
       "</table>\n",
       "</div>"
      ],
      "text/plain": [
       "   feedback_id    order_id  customer_id  rating  \\\n",
       "0      2234710  1961864118     30065862       4   \n",
       "1      5450964  1549769649      9573071       3   \n",
       "2       482108  9185164487     45477575       3   \n",
       "3      4823104  9644738826     88067569       4   \n",
       "4      3537464  5427684290     83298567       3   \n",
       "\n",
       "                          feedback_text feedback_category sentiment  \\\n",
       "0         It was okay, nothing special.          Delivery   Neutral   \n",
       "1              The order was incorrect.    App Experience  Negative   \n",
       "2         It was okay, nothing special.    App Experience   Neutral   \n",
       "3      The product met my expectations.    App Experience   Neutral   \n",
       "4  Product was damaged during delivery.          Delivery  Negative   \n",
       "\n",
       "  feedback_date  \n",
       "0    2024-07-17  \n",
       "1    2024-05-28  \n",
       "2    2024-09-23  \n",
       "3    2023-11-24  \n",
       "4    2023-11-20  "
      ]
     },
     "execution_count": 356,
     "metadata": {},
     "output_type": "execute_result"
    }
   ],
   "source": [
    "feedback.head()"
   ]
  },
  {
   "cell_type": "code",
   "execution_count": 357,
   "id": "3c633ac3-4ff1-4509-af4f-31f6fd3311b0",
   "metadata": {
    "jupyter": {
     "source_hidden": true
    }
   },
   "outputs": [
    {
     "data": {
      "text/plain": [
       "(5000, 8)"
      ]
     },
     "execution_count": 357,
     "metadata": {},
     "output_type": "execute_result"
    }
   ],
   "source": [
    "feedback.shape"
   ]
  },
  {
   "cell_type": "code",
   "execution_count": 358,
   "id": "28578e32-96d8-49c5-8e8b-eca8039d313f",
   "metadata": {
    "collapsed": true,
    "jupyter": {
     "outputs_hidden": true
    }
   },
   "outputs": [
    {
     "name": "stdout",
     "output_type": "stream",
     "text": [
      "<class 'pandas.core.frame.DataFrame'>\n",
      "RangeIndex: 5000 entries, 0 to 4999\n",
      "Data columns (total 8 columns):\n",
      " #   Column             Non-Null Count  Dtype \n",
      "---  ------             --------------  ----- \n",
      " 0   feedback_id        5000 non-null   int64 \n",
      " 1   order_id           5000 non-null   int64 \n",
      " 2   customer_id        5000 non-null   int64 \n",
      " 3   rating             5000 non-null   int64 \n",
      " 4   feedback_text      5000 non-null   object\n",
      " 5   feedback_category  5000 non-null   object\n",
      " 6   sentiment          5000 non-null   object\n",
      " 7   feedback_date      5000 non-null   object\n",
      "dtypes: int64(4), object(4)\n",
      "memory usage: 312.6+ KB\n"
     ]
    }
   ],
   "source": [
    "feedback.info()"
   ]
  },
  {
   "cell_type": "markdown",
   "id": "e4b539ba-0766-467f-b6f9-dfdcd2b1f4c9",
   "metadata": {},
   "source": [
    "### DATA CLEANING"
   ]
  },
  {
   "cell_type": "markdown",
   "id": "66b342ec-ebd1-47cb-ad6d-15fd90af5884",
   "metadata": {},
   "source": [
    "#### 1. Checking for Duplicates"
   ]
  },
  {
   "cell_type": "code",
   "execution_count": 359,
   "id": "1e74b14f-f884-43e7-8516-b7376ce8d6d3",
   "metadata": {},
   "outputs": [
    {
     "data": {
      "text/plain": [
       "np.int64(0)"
      ]
     },
     "execution_count": 359,
     "metadata": {},
     "output_type": "execute_result"
    }
   ],
   "source": [
    "feedback.duplicated().sum()"
   ]
  },
  {
   "cell_type": "code",
   "execution_count": 360,
   "id": "244c1a55-ba75-44a6-93a4-2270f303bb4a",
   "metadata": {},
   "outputs": [
    {
     "data": {
      "text/plain": [
       "np.int64(0)"
      ]
     },
     "execution_count": 360,
     "metadata": {},
     "output_type": "execute_result"
    }
   ],
   "source": [
    "customers.duplicated().sum()"
   ]
  },
  {
   "cell_type": "code",
   "execution_count": 361,
   "id": "1594679a-6d35-44ae-9576-12d9a51f78e8",
   "metadata": {},
   "outputs": [
    {
     "data": {
      "text/plain": [
       "np.int64(0)"
      ]
     },
     "execution_count": 361,
     "metadata": {},
     "output_type": "execute_result"
    }
   ],
   "source": [
    "marketing.duplicated().sum()"
   ]
  },
  {
   "cell_type": "code",
   "execution_count": 362,
   "id": "f53aef42-2663-4272-ba68-ae53030ff918",
   "metadata": {},
   "outputs": [
    {
     "data": {
      "text/plain": [
       "np.int64(0)"
      ]
     },
     "execution_count": 362,
     "metadata": {},
     "output_type": "execute_result"
    }
   ],
   "source": [
    "order.duplicated().sum()"
   ]
  },
  {
   "cell_type": "code",
   "execution_count": 363,
   "id": "4f27e08a-b6d5-43bd-9710-368ce9d8ae58",
   "metadata": {},
   "outputs": [
    {
     "data": {
      "text/plain": [
       "np.int64(0)"
      ]
     },
     "execution_count": 363,
     "metadata": {},
     "output_type": "execute_result"
    }
   ],
   "source": [
    "product.duplicated().sum()"
   ]
  },
  {
   "cell_type": "code",
   "execution_count": 364,
   "id": "2d3e0147-8251-40c6-998c-1ae7a5ecd3f2",
   "metadata": {},
   "outputs": [
    {
     "data": {
      "text/plain": [
       "np.int64(0)"
      ]
     },
     "execution_count": 364,
     "metadata": {},
     "output_type": "execute_result"
    }
   ],
   "source": [
    "order_item.duplicated().sum()"
   ]
  },
  {
   "cell_type": "markdown",
   "id": "7c37b0ab-7dbe-4b5d-90e0-9c0d55091e9c",
   "metadata": {},
   "source": [
    "✅Observation: No duplicates records were found in any of the datasets"
   ]
  },
  {
   "cell_type": "markdown",
   "id": "7e111940-363e-41ae-a7cc-367c33ce796d",
   "metadata": {},
   "source": [
    "#### 2. Checking For Missing Values"
   ]
  },
  {
   "cell_type": "code",
   "execution_count": 365,
   "id": "70054195-7e31-4ff2-bbf5-6cd1d80a2ded",
   "metadata": {},
   "outputs": [
    {
     "data": {
      "text/plain": [
       "feedback_id          0\n",
       "order_id             0\n",
       "customer_id          0\n",
       "rating               0\n",
       "feedback_text        0\n",
       "feedback_category    0\n",
       "sentiment            0\n",
       "feedback_date        0\n",
       "dtype: int64"
      ]
     },
     "execution_count": 365,
     "metadata": {},
     "output_type": "execute_result"
    }
   ],
   "source": [
    "feedback.isnull().sum()"
   ]
  },
  {
   "cell_type": "code",
   "execution_count": 366,
   "id": "5a9c281c-30bf-4487-aa7e-60ff53e203e8",
   "metadata": {},
   "outputs": [
    {
     "data": {
      "text/plain": [
       "customer_id          0\n",
       "customer_name        0\n",
       "email                0\n",
       "phone                0\n",
       "address              0\n",
       "area                 0\n",
       "pincode              0\n",
       "registration_date    0\n",
       "customer_segment     0\n",
       "total_orders         0\n",
       "avg_order_value      0\n",
       "dtype: int64"
      ]
     },
     "execution_count": 366,
     "metadata": {},
     "output_type": "execute_result"
    }
   ],
   "source": [
    "customers.isnull().sum()"
   ]
  },
  {
   "cell_type": "code",
   "execution_count": 367,
   "id": "61c3c85a-8150-4408-add4-6ca44a22ef47",
   "metadata": {},
   "outputs": [
    {
     "data": {
      "text/plain": [
       "campaign_id          0\n",
       "campaign_name        0\n",
       "date                 0\n",
       "target_audience      0\n",
       "channel              0\n",
       "impressions          0\n",
       "clicks               0\n",
       "conversions          0\n",
       "spend                0\n",
       "revenue_generated    0\n",
       "roas                 0\n",
       "dtype: int64"
      ]
     },
     "execution_count": 367,
     "metadata": {},
     "output_type": "execute_result"
    }
   ],
   "source": [
    "marketing.isnull().sum()"
   ]
  },
  {
   "cell_type": "code",
   "execution_count": 368,
   "id": "2322d02f-c3ec-462e-8f18-b869a5f1cf6f",
   "metadata": {},
   "outputs": [
    {
     "data": {
      "text/plain": [
       "order_id      0\n",
       "product_id    0\n",
       "quantity      0\n",
       "unit_price    0\n",
       "dtype: int64"
      ]
     },
     "execution_count": 368,
     "metadata": {},
     "output_type": "execute_result"
    }
   ],
   "source": [
    "order_item.isnull().sum()"
   ]
  },
  {
   "cell_type": "code",
   "execution_count": 369,
   "id": "63e2592d-c935-4494-9725-152c6a7439b7",
   "metadata": {},
   "outputs": [
    {
     "data": {
      "text/plain": [
       "order_id                  0\n",
       "customer_id               0\n",
       "order_date                0\n",
       "promised_delivery_time    0\n",
       "actual_delivery_time      0\n",
       "delivery_status           0\n",
       "order_total               0\n",
       "payment_method            0\n",
       "delivery_partner_id       0\n",
       "store_id                  0\n",
       "dtype: int64"
      ]
     },
     "execution_count": 369,
     "metadata": {},
     "output_type": "execute_result"
    }
   ],
   "source": [
    "order.isnull().sum()"
   ]
  },
  {
   "cell_type": "code",
   "execution_count": 370,
   "id": "89eab00f-6f89-4a5d-b8a1-d2842c749df3",
   "metadata": {},
   "outputs": [
    {
     "data": {
      "text/plain": [
       "product_id           0\n",
       "product_name         0\n",
       "category             0\n",
       "brand                0\n",
       "price                0\n",
       "mrp                  0\n",
       "margin_percentage    0\n",
       "shelf_life_days      0\n",
       "min_stock_level      0\n",
       "max_stock_level      0\n",
       "dtype: int64"
      ]
     },
     "execution_count": 370,
     "metadata": {},
     "output_type": "execute_result"
    }
   ],
   "source": [
    "product.isnull().sum()"
   ]
  },
  {
   "cell_type": "markdown",
   "id": "f2819571-7e3b-45ff-b0c8-dd9f998adf15",
   "metadata": {},
   "source": [
    "✅Observation: No missing values were detected accross all datasets"
   ]
  },
  {
   "cell_type": "markdown",
   "id": "113eae46-e046-43a8-919e-a41386c19771",
   "metadata": {},
   "source": [
    "#### 3. Updating product_name to match with Gyeks QuickFarm branding"
   ]
  },
  {
   "cell_type": "code",
   "execution_count": 371,
   "id": "f9a8a0e1-dbd7-4cf4-985a-d8cf18765795",
   "metadata": {},
   "outputs": [],
   "source": [
    "product_copy = product.copy()"
   ]
  },
  {
   "cell_type": "code",
   "execution_count": 372,
   "id": "1494e0c2-6a15-4008-984a-9b32284c2756",
   "metadata": {},
   "outputs": [],
   "source": [
    "# delete all values in product_name\n",
    "product_copy['product_name']=None"
   ]
  },
  {
   "cell_type": "code",
   "execution_count": 373,
   "id": "edb15c0d-1df5-4185-af11-ff2fd42b6b1f",
   "metadata": {},
   "outputs": [],
   "source": [
    "# rename values\n",
    "crops =[\n",
    "\"Maize\",\"Rice\",\"Millet\", \"oziza leave\",\"Wheat\",\"Barley\",\"Cassava\", \"Yam\", \"Sweet Potato\", \n",
    "    \"Irish Potato\", \"Cocoyam\", \"Ginger\", \"Turmeric\", \"Groundnut\", \"Soybean\",\"Cowpea (Beans)\", \n",
    "    \"Bambara Nut\", \"Sesame Seed\", \"Sunflower\",  \"Castor Seed\", \"Plantain\", \"Banana\", \"Pineapple\", \n",
    "    \"Mango\", \"Orange\", \"Pawpaw (Papaya)\",\"Guava\", \"Cashew\", \"Coconut\", \"Avocado\",\"Watermelon\",\n",
    "    \"Tangerine\", \"Grapefruit\", \"Lemon\", \"Lime\", \"Tomato\", \"Pepper\", \"Onion\",  \"Okra\", \"Spinach\", \n",
    "    \"Amaranth leaves\", \"Fluted Pumpkin (Ugu)\", \"Bitterleaf\",  \"Scent  Leaf (Basil)\", \"Waterleaf\",\n",
    "    \"Garden Egg (Eggplant)\", \"Cabbage\", \"Lettuce\", \"Cucumber\", \"Carrot\", \"Celosia (Shoko)\"\n",
    "]"
   ]
  },
  {
   "cell_type": "code",
   "execution_count": 374,
   "id": "ca186a11-0dd4-4754-9d6a-c718da16e037",
   "metadata": {},
   "outputs": [
    {
     "name": "stdout",
     "output_type": "stream",
     "text": [
      "51\n"
     ]
    }
   ],
   "source": [
    "print(len(crops))"
   ]
  },
  {
   "cell_type": "code",
   "execution_count": 375,
   "id": "031970d0-6a94-4d10-b8ea-b63738a0b9e1",
   "metadata": {},
   "outputs": [
    {
     "name": "stdout",
     "output_type": "stream",
     "text": [
      "['Maize', 'Rice', 'Millet', 'oziza leave', 'Wheat', 'Barley', 'Cassava', 'Yam', 'Sweet Potato', 'Irish Potato', 'Cocoyam', 'Ginger', 'Turmeric', 'Groundnut', 'Soybean', 'Cowpea (Beans)', 'Bambara Nut', 'Sesame Seed', 'Sunflower', 'Castor Seed', 'Plantain', 'Banana', 'Pineapple', 'Mango', 'Orange', 'Pawpaw (Papaya)', 'Guava', 'Cashew', 'Coconut', 'Avocado', 'Watermelon', 'Tangerine', 'Grapefruit', 'Lemon', 'Lime', 'Tomato', 'Pepper', 'Onion', 'Okra', 'Spinach', 'Amaranth leaves', 'Fluted Pumpkin (Ugu)', 'Bitterleaf', 'Scent  Leaf (Basil)', 'Waterleaf', 'Garden Egg (Eggplant)', 'Cabbage', 'Lettuce', 'Cucumber', 'Carrot', 'Celosia (Shoko)']\n"
     ]
    }
   ],
   "source": [
    "print(crops)"
   ]
  },
  {
   "cell_type": "code",
   "execution_count": 376,
   "id": "c5aba434-fbac-4df3-939b-2579817d559e",
   "metadata": {},
   "outputs": [],
   "source": [
    "# assign new values to product_name\n",
    "product_copy['product_name'] = np.random.choice(crops, size=len(product_copy))"
   ]
  },
  {
   "cell_type": "code",
   "execution_count": 377,
   "id": "238873b2-dff6-4036-aef6-dfa3fe6fcee4",
   "metadata": {},
   "outputs": [],
   "source": [
    "product = product_copy"
   ]
  },
  {
   "cell_type": "markdown",
   "id": "79eb035f-04d9-455f-a65d-e9d7792953c5",
   "metadata": {},
   "source": [
    "### EXPLORATORY DATA ANALYSIS"
   ]
  },
  {
   "cell_type": "markdown",
   "id": "ee796daf-baed-4ce8-bc86-09724594bbe3",
   "metadata": {},
   "source": [
    "#### Objective 1: To identify and focus on the most effective marketing channels for better customer targeting to improve sales and conversion rate\n",
    "* Which channels have the hightest number of clicks?\n",
    "* Which channels have the highest conversion?\n",
    "* Which channels generated the highest revenue?\n"
   ]
  },
  {
   "cell_type": "markdown",
   "id": "f9d53fe5-74e2-4f69-b38a-30bea857ba42",
   "metadata": {},
   "source": [
    "#### Channels with the highest clicks"
   ]
  },
  {
   "cell_type": "code",
   "execution_count": 378,
   "id": "718cd402-6267-42a8-9265-a3eed7a2e36b",
   "metadata": {},
   "outputs": [
    {
     "data": {
      "text/html": [
       "<div>\n",
       "<style scoped>\n",
       "    .dataframe tbody tr th:only-of-type {\n",
       "        vertical-align: middle;\n",
       "    }\n",
       "\n",
       "    .dataframe tbody tr th {\n",
       "        vertical-align: top;\n",
       "    }\n",
       "\n",
       "    .dataframe thead th {\n",
       "        text-align: right;\n",
       "    }\n",
       "</style>\n",
       "<table border=\"1\" class=\"dataframe\">\n",
       "  <thead>\n",
       "    <tr style=\"text-align: right;\">\n",
       "      <th></th>\n",
       "      <th>channel</th>\n",
       "      <th>clicks</th>\n",
       "    </tr>\n",
       "  </thead>\n",
       "  <tbody>\n",
       "    <tr>\n",
       "      <th>0</th>\n",
       "      <td>Email</td>\n",
       "      <td>756057</td>\n",
       "    </tr>\n",
       "    <tr>\n",
       "      <th>1</th>\n",
       "      <td>SMS</td>\n",
       "      <td>744274</td>\n",
       "    </tr>\n",
       "    <tr>\n",
       "      <th>2</th>\n",
       "      <td>Social Media</td>\n",
       "      <td>738839</td>\n",
       "    </tr>\n",
       "    <tr>\n",
       "      <th>3</th>\n",
       "      <td>App</td>\n",
       "      <td>734975</td>\n",
       "    </tr>\n",
       "  </tbody>\n",
       "</table>\n",
       "</div>"
      ],
      "text/plain": [
       "        channel  clicks\n",
       "0         Email  756057\n",
       "1           SMS  744274\n",
       "2  Social Media  738839\n",
       "3           App  734975"
      ]
     },
     "execution_count": 378,
     "metadata": {},
     "output_type": "execute_result"
    }
   ],
   "source": [
    "# sum of clicks per channels\n",
    "\n",
    "marketing.groupby('channel')[['clicks']].sum().sort_values(by= 'clicks', ascending=False).reset_index()"
   ]
  },
  {
   "cell_type": "markdown",
   "id": "406c566c-af27-416c-b49e-f7772973c563",
   "metadata": {},
   "source": [
    "✅Observation/Insight: Email generated the highest number of clicks, indicating strong initial enegagement with customers."
   ]
  },
  {
   "cell_type": "markdown",
   "id": "8a0e771f-278e-4ec7-b1f5-eb5d690230d1",
   "metadata": {},
   "source": [
    "#### Channels with the highest conversions"
   ]
  },
  {
   "cell_type": "code",
   "execution_count": 379,
   "id": "2378a7f2-770f-4fb5-914e-853ca275a4d2",
   "metadata": {},
   "outputs": [
    {
     "data": {
      "text/html": [
       "<div>\n",
       "<style scoped>\n",
       "    .dataframe tbody tr th:only-of-type {\n",
       "        vertical-align: middle;\n",
       "    }\n",
       "\n",
       "    .dataframe tbody tr th {\n",
       "        vertical-align: top;\n",
       "    }\n",
       "\n",
       "    .dataframe thead th {\n",
       "        text-align: right;\n",
       "    }\n",
       "</style>\n",
       "<table border=\"1\" class=\"dataframe\">\n",
       "  <thead>\n",
       "    <tr style=\"text-align: right;\">\n",
       "      <th></th>\n",
       "      <th>channel</th>\n",
       "      <th>conversions</th>\n",
       "    </tr>\n",
       "  </thead>\n",
       "  <tbody>\n",
       "    <tr>\n",
       "      <th>0</th>\n",
       "      <td>App</td>\n",
       "      <td>75192</td>\n",
       "    </tr>\n",
       "    <tr>\n",
       "      <th>1</th>\n",
       "      <td>Social Media</td>\n",
       "      <td>74940</td>\n",
       "    </tr>\n",
       "    <tr>\n",
       "      <th>2</th>\n",
       "      <td>Email</td>\n",
       "      <td>74671</td>\n",
       "    </tr>\n",
       "    <tr>\n",
       "      <th>3</th>\n",
       "      <td>SMS</td>\n",
       "      <td>73235</td>\n",
       "    </tr>\n",
       "  </tbody>\n",
       "</table>\n",
       "</div>"
      ],
      "text/plain": [
       "        channel  conversions\n",
       "0           App        75192\n",
       "1  Social Media        74940\n",
       "2         Email        74671\n",
       "3           SMS        73235"
      ]
     },
     "execution_count": 379,
     "metadata": {},
     "output_type": "execute_result"
    }
   ],
   "source": [
    "# sum of conversions per channels\n",
    "marketing.groupby('channel')[['conversions']].sum().sort_values(\n",
    "    by= 'conversions',ascending=False).reset_index() "
   ]
  },
  {
   "cell_type": "markdown",
   "id": "fac35c43-496b-4b7a-8700-7b431dee6c6f",
   "metadata": {},
   "source": [
    "✅Observation/Insight: App channel achieved the highest conversion rate among all channels, indicating that customers engaging through the mobile application are most likely to complete a purchase."
   ]
  },
  {
   "cell_type": "markdown",
   "id": "7aa64950-8d85-4e56-a483-79114814dcec",
   "metadata": {},
   "source": [
    "#### Channel with the most generated revenue"
   ]
  },
  {
   "cell_type": "code",
   "execution_count": 380,
   "id": "c3b9176c-1a02-4e23-be3f-db2fda26969c",
   "metadata": {},
   "outputs": [
    {
     "data": {
      "text/html": [
       "<div>\n",
       "<style scoped>\n",
       "    .dataframe tbody tr th:only-of-type {\n",
       "        vertical-align: middle;\n",
       "    }\n",
       "\n",
       "    .dataframe tbody tr th {\n",
       "        vertical-align: top;\n",
       "    }\n",
       "\n",
       "    .dataframe thead th {\n",
       "        text-align: right;\n",
       "    }\n",
       "</style>\n",
       "<table border=\"1\" class=\"dataframe\">\n",
       "  <thead>\n",
       "    <tr style=\"text-align: right;\">\n",
       "      <th></th>\n",
       "      <th>channel</th>\n",
       "      <th>revenue_generated</th>\n",
       "    </tr>\n",
       "  </thead>\n",
       "  <tbody>\n",
       "    <tr>\n",
       "      <th>0</th>\n",
       "      <td>Email</td>\n",
       "      <td>8189331.58</td>\n",
       "    </tr>\n",
       "    <tr>\n",
       "      <th>1</th>\n",
       "      <td>App</td>\n",
       "      <td>8075010.49</td>\n",
       "    </tr>\n",
       "    <tr>\n",
       "      <th>2</th>\n",
       "      <td>Social Media</td>\n",
       "      <td>7990415.98</td>\n",
       "    </tr>\n",
       "    <tr>\n",
       "      <th>3</th>\n",
       "      <td>SMS</td>\n",
       "      <td>7938649.32</td>\n",
       "    </tr>\n",
       "  </tbody>\n",
       "</table>\n",
       "</div>"
      ],
      "text/plain": [
       "        channel  revenue_generated\n",
       "0         Email         8189331.58\n",
       "1           App         8075010.49\n",
       "2  Social Media         7990415.98\n",
       "3           SMS         7938649.32"
      ]
     },
     "execution_count": 380,
     "metadata": {},
     "output_type": "execute_result"
    }
   ],
   "source": [
    "# sum of revenue generated per channels\n",
    "marketing.groupby('channel')[['revenue_generated']].sum().sort_values(\n",
    "    by = 'revenue_generated', ascending=False).reset_index()"
   ]
  },
  {
   "cell_type": "markdown",
   "id": "1110893d-b091-4b9d-b17f-e37d338190fb",
   "metadata": {},
   "source": [
    "✅Observation/Insight: Email channel generated the highest revenue among all marketing channels, contributing the largest share of overall sales."
   ]
  },
  {
   "cell_type": "markdown",
   "id": "b2d2bc09-5231-49c8-86ad-9cf49932ed2f",
   "metadata": {},
   "source": [
    "#### OBJECTIVE 2: To streamline and offer preferred payment methods to improve user experience\n",
    "* What is the most preferred payment methods by customers?\n",
    "* What is the most frequently used payment methods?"
   ]
  },
  {
   "cell_type": "markdown",
   "id": "7c35caca-ae9e-4c01-9636-1b022a164883",
   "metadata": {},
   "source": [
    "#### Most preferred payment methods by customers"
   ]
  },
  {
   "cell_type": "code",
   "execution_count": 381,
   "id": "fc1e13a5-f320-4b2d-a285-cd8b78617764",
   "metadata": {},
   "outputs": [],
   "source": [
    "payment = customers.merge(order, on ='customer_id',how ='right')\n",
    "# merged customers table with order table"
   ]
  },
  {
   "cell_type": "code",
   "execution_count": 382,
   "id": "22c96c1f-a19d-4891-a142-74a3ec974842",
   "metadata": {},
   "outputs": [
    {
     "data": {
      "text/html": [
       "<div>\n",
       "<style scoped>\n",
       "    .dataframe tbody tr th:only-of-type {\n",
       "        vertical-align: middle;\n",
       "    }\n",
       "\n",
       "    .dataframe tbody tr th {\n",
       "        vertical-align: top;\n",
       "    }\n",
       "\n",
       "    .dataframe thead th {\n",
       "        text-align: right;\n",
       "    }\n",
       "</style>\n",
       "<table border=\"1\" class=\"dataframe\">\n",
       "  <thead>\n",
       "    <tr style=\"text-align: right;\">\n",
       "      <th></th>\n",
       "      <th>payment_method</th>\n",
       "      <th>customer_id</th>\n",
       "    </tr>\n",
       "  </thead>\n",
       "  <tbody>\n",
       "    <tr>\n",
       "      <th>0</th>\n",
       "      <td>Card</td>\n",
       "      <td>1022</td>\n",
       "    </tr>\n",
       "    <tr>\n",
       "      <th>1</th>\n",
       "      <td>Cash</td>\n",
       "      <td>975</td>\n",
       "    </tr>\n",
       "    <tr>\n",
       "      <th>2</th>\n",
       "      <td>UPI</td>\n",
       "      <td>972</td>\n",
       "    </tr>\n",
       "    <tr>\n",
       "      <th>3</th>\n",
       "      <td>Wallet</td>\n",
       "      <td>1001</td>\n",
       "    </tr>\n",
       "  </tbody>\n",
       "</table>\n",
       "</div>"
      ],
      "text/plain": [
       "  payment_method  customer_id\n",
       "0           Card         1022\n",
       "1           Cash          975\n",
       "2            UPI          972\n",
       "3         Wallet         1001"
      ]
     },
     "execution_count": 382,
     "metadata": {},
     "output_type": "execute_result"
    }
   ],
   "source": [
    "# number of unique customer per payment method\n",
    "payment.groupby('payment_method')[['customer_id']].nunique().reset_index()"
   ]
  },
  {
   "cell_type": "markdown",
   "id": "0d61516a-4f80-4aaf-bed4-35f8714c72fc",
   "metadata": {},
   "source": [
    "#### Most frequently used payment method"
   ]
  },
  {
   "cell_type": "code",
   "execution_count": 402,
   "id": "b215d98a-07db-4eee-8c72-fd8c281718cc",
   "metadata": {},
   "outputs": [
    {
     "data": {
      "text/html": [
       "<div>\n",
       "<style scoped>\n",
       "    .dataframe tbody tr th:only-of-type {\n",
       "        vertical-align: middle;\n",
       "    }\n",
       "\n",
       "    .dataframe tbody tr th {\n",
       "        vertical-align: top;\n",
       "    }\n",
       "\n",
       "    .dataframe thead th {\n",
       "        text-align: right;\n",
       "    }\n",
       "</style>\n",
       "<table border=\"1\" class=\"dataframe\">\n",
       "  <thead>\n",
       "    <tr style=\"text-align: right;\">\n",
       "      <th></th>\n",
       "      <th>payment_method</th>\n",
       "      <th>order_id</th>\n",
       "    </tr>\n",
       "  </thead>\n",
       "  <tbody>\n",
       "    <tr>\n",
       "      <th>0</th>\n",
       "      <td>Card</td>\n",
       "      <td>1285</td>\n",
       "    </tr>\n",
       "    <tr>\n",
       "      <th>1</th>\n",
       "      <td>Cash</td>\n",
       "      <td>1257</td>\n",
       "    </tr>\n",
       "    <tr>\n",
       "      <th>2</th>\n",
       "      <td>UPI</td>\n",
       "      <td>1214</td>\n",
       "    </tr>\n",
       "    <tr>\n",
       "      <th>3</th>\n",
       "      <td>Wallet</td>\n",
       "      <td>1244</td>\n",
       "    </tr>\n",
       "  </tbody>\n",
       "</table>\n",
       "</div>"
      ],
      "text/plain": [
       "  payment_method  order_id\n",
       "0           Card      1285\n",
       "1           Cash      1257\n",
       "2            UPI      1214\n",
       "3         Wallet      1244"
      ]
     },
     "execution_count": 402,
     "metadata": {},
     "output_type": "execute_result"
    }
   ],
   "source": [
    "# count of payment method per order\n",
    "payment.groupby('payment_method')[['order_id']].count().reset_index()\n"
   ]
  },
  {
   "cell_type": "markdown",
   "id": "60c3285b-ee3b-4dc2-bf2d-663059d5a696",
   "metadata": {},
   "source": [
    "✅Observation/Insight: This analysis indicates that Card is the most frequently used method suggesting that Card is the most convenient option, and enhancing support for this method could improve customer satifaction"
   ]
  },
  {
   "cell_type": "markdown",
   "id": "479196db-e862-499a-ab71-09d9bfa7ae04",
   "metadata": {},
   "source": [
    "#### Objective 3: To identify and target areas with high activities to direct sales teams and distribution to where they have the greatest impact and use marketing strategies to revitalize low performing areas to generate high ROI and achieve a stronger market presence\n",
    "* What areas have the highest number of premiun customers?\n",
    "* What areas have the highest number of regular customers?\n",
    "* What areas have the highest number of inactive customers?\n",
    "* What areas have the highest number of orders?\n"
   ]
  },
  {
   "cell_type": "markdown",
   "id": "a35d04d2-c18d-4e04-a1e2-00f312a713d4",
   "metadata": {},
   "source": [
    "#### Areas with the highest premium customers"
   ]
  },
  {
   "cell_type": "code",
   "execution_count": 384,
   "id": "908da732-b048-4907-b0d1-4b1c2c2ffb51",
   "metadata": {},
   "outputs": [],
   "source": [
    "# merged order table with customers table\n",
    "business_area = order.merge(customers, on ='customer_id',how ='inner')"
   ]
  },
  {
   "cell_type": "code",
   "execution_count": 399,
   "id": "5967a9cb-77e5-40e1-a292-a7733b7f724e",
   "metadata": {},
   "outputs": [],
   "source": [
    "# keep only premium customers in customer_segment column\n",
    "premium =business_area[business_area['customer_segment'] == 'Premium']"
   ]
  },
  {
   "cell_type": "code",
   "execution_count": 386,
   "id": "a6d7795f-fb6e-4e10-b428-63aeba8c7e9a",
   "metadata": {},
   "outputs": [
    {
     "data": {
      "text/html": [
       "<div>\n",
       "<style scoped>\n",
       "    .dataframe tbody tr th:only-of-type {\n",
       "        vertical-align: middle;\n",
       "    }\n",
       "\n",
       "    .dataframe tbody tr th {\n",
       "        vertical-align: top;\n",
       "    }\n",
       "\n",
       "    .dataframe thead th {\n",
       "        text-align: right;\n",
       "    }\n",
       "</style>\n",
       "<table border=\"1\" class=\"dataframe\">\n",
       "  <thead>\n",
       "    <tr style=\"text-align: right;\">\n",
       "      <th></th>\n",
       "      <th>area</th>\n",
       "      <th>customer_id</th>\n",
       "    </tr>\n",
       "  </thead>\n",
       "  <tbody>\n",
       "    <tr>\n",
       "      <th>0</th>\n",
       "      <td>Etawah</td>\n",
       "      <td>6</td>\n",
       "    </tr>\n",
       "    <tr>\n",
       "      <th>1</th>\n",
       "      <td>Purnia</td>\n",
       "      <td>6</td>\n",
       "    </tr>\n",
       "    <tr>\n",
       "      <th>2</th>\n",
       "      <td>Burhanpur</td>\n",
       "      <td>6</td>\n",
       "    </tr>\n",
       "    <tr>\n",
       "      <th>3</th>\n",
       "      <td>Kota</td>\n",
       "      <td>6</td>\n",
       "    </tr>\n",
       "    <tr>\n",
       "      <th>4</th>\n",
       "      <td>Ratlam</td>\n",
       "      <td>5</td>\n",
       "    </tr>\n",
       "    <tr>\n",
       "      <th>...</th>\n",
       "      <td>...</td>\n",
       "      <td>...</td>\n",
       "    </tr>\n",
       "    <tr>\n",
       "      <th>260</th>\n",
       "      <td>Thiruvananthapuram</td>\n",
       "      <td>1</td>\n",
       "    </tr>\n",
       "    <tr>\n",
       "      <th>261</th>\n",
       "      <td>Thrissur</td>\n",
       "      <td>1</td>\n",
       "    </tr>\n",
       "    <tr>\n",
       "      <th>262</th>\n",
       "      <td>Vijayawada</td>\n",
       "      <td>1</td>\n",
       "    </tr>\n",
       "    <tr>\n",
       "      <th>263</th>\n",
       "      <td>Ahmednagar</td>\n",
       "      <td>1</td>\n",
       "    </tr>\n",
       "    <tr>\n",
       "      <th>264</th>\n",
       "      <td>Adoni</td>\n",
       "      <td>1</td>\n",
       "    </tr>\n",
       "  </tbody>\n",
       "</table>\n",
       "<p>265 rows × 2 columns</p>\n",
       "</div>"
      ],
      "text/plain": [
       "                   area  customer_id\n",
       "0                Etawah            6\n",
       "1                Purnia            6\n",
       "2             Burhanpur            6\n",
       "3                  Kota            6\n",
       "4                Ratlam            5\n",
       "..                  ...          ...\n",
       "260  Thiruvananthapuram            1\n",
       "261            Thrissur            1\n",
       "262          Vijayawada            1\n",
       "263          Ahmednagar            1\n",
       "264               Adoni            1\n",
       "\n",
       "[265 rows x 2 columns]"
      ]
     },
     "execution_count": 386,
     "metadata": {},
     "output_type": "execute_result"
    }
   ],
   "source": [
    "premium.groupby('area')[['customer_id']].nunique().sort_values(by= 'customer_id', ascending=False).reset_index()"
   ]
  },
  {
   "cell_type": "markdown",
   "id": "a2b762f7-bf92-40ab-a93c-53e429cfede5",
   "metadata": {},
   "source": [
    "✅Observation/Insight: This analysis shows that Etawah, Purnia, Burhanpur and Kota have the highest number of premium customers with 6 customers per area"
   ]
  },
  {
   "cell_type": "markdown",
   "id": "b55a96d4-5d02-4a71-86b9-03bbee64c0a0",
   "metadata": {},
   "source": [
    "#### Areas with the highest Regular customers"
   ]
  },
  {
   "cell_type": "code",
   "execution_count": 387,
   "id": "1ef7d9a2-1741-4e7e-9709-301a10561976",
   "metadata": {},
   "outputs": [],
   "source": [
    "regular = business_area[business_area['customer_segment']=='Regular']"
   ]
  },
  {
   "cell_type": "code",
   "execution_count": 398,
   "id": "9368f505-c718-40a2-b034-da22b3825d18",
   "metadata": {},
   "outputs": [
    {
     "data": {
      "text/html": [
       "<div>\n",
       "<style scoped>\n",
       "    .dataframe tbody tr th:only-of-type {\n",
       "        vertical-align: middle;\n",
       "    }\n",
       "\n",
       "    .dataframe tbody tr th {\n",
       "        vertical-align: top;\n",
       "    }\n",
       "\n",
       "    .dataframe thead th {\n",
       "        text-align: right;\n",
       "    }\n",
       "</style>\n",
       "<table border=\"1\" class=\"dataframe\">\n",
       "  <thead>\n",
       "    <tr style=\"text-align: right;\">\n",
       "      <th></th>\n",
       "      <th>area</th>\n",
       "      <th>customer_id</th>\n",
       "    </tr>\n",
       "  </thead>\n",
       "  <tbody>\n",
       "    <tr>\n",
       "      <th>0</th>\n",
       "      <td>Bhagalpur</td>\n",
       "      <td>6</td>\n",
       "    </tr>\n",
       "    <tr>\n",
       "      <th>1</th>\n",
       "      <td>Aurangabad</td>\n",
       "      <td>6</td>\n",
       "    </tr>\n",
       "    <tr>\n",
       "      <th>2</th>\n",
       "      <td>Pallavaram</td>\n",
       "      <td>6</td>\n",
       "    </tr>\n",
       "    <tr>\n",
       "      <th>3</th>\n",
       "      <td>Karaikudi</td>\n",
       "      <td>6</td>\n",
       "    </tr>\n",
       "    <tr>\n",
       "      <th>4</th>\n",
       "      <td>Deoghar</td>\n",
       "      <td>6</td>\n",
       "    </tr>\n",
       "    <tr>\n",
       "      <th>...</th>\n",
       "      <td>...</td>\n",
       "      <td>...</td>\n",
       "    </tr>\n",
       "    <tr>\n",
       "      <th>252</th>\n",
       "      <td>Sultan Pur Majra</td>\n",
       "      <td>1</td>\n",
       "    </tr>\n",
       "    <tr>\n",
       "      <th>253</th>\n",
       "      <td>Tadepalligudem</td>\n",
       "      <td>1</td>\n",
       "    </tr>\n",
       "    <tr>\n",
       "      <th>254</th>\n",
       "      <td>Tadipatri</td>\n",
       "      <td>1</td>\n",
       "    </tr>\n",
       "    <tr>\n",
       "      <th>255</th>\n",
       "      <td>Tenali</td>\n",
       "      <td>1</td>\n",
       "    </tr>\n",
       "    <tr>\n",
       "      <th>256</th>\n",
       "      <td>Thane</td>\n",
       "      <td>1</td>\n",
       "    </tr>\n",
       "  </tbody>\n",
       "</table>\n",
       "<p>257 rows × 2 columns</p>\n",
       "</div>"
      ],
      "text/plain": [
       "                 area  customer_id\n",
       "0           Bhagalpur            6\n",
       "1          Aurangabad            6\n",
       "2          Pallavaram            6\n",
       "3           Karaikudi            6\n",
       "4             Deoghar            6\n",
       "..                ...          ...\n",
       "252  Sultan Pur Majra            1\n",
       "253    Tadepalligudem            1\n",
       "254         Tadipatri            1\n",
       "255            Tenali            1\n",
       "256             Thane            1\n",
       "\n",
       "[257 rows x 2 columns]"
      ]
     },
     "execution_count": 398,
     "metadata": {},
     "output_type": "execute_result"
    }
   ],
   "source": [
    "# keep only regular customers in customer_segment column\n",
    "regular.groupby('area')[['customer_id']].nunique().sort_values(by='customer_id', ascending=False).reset_index()"
   ]
  },
  {
   "cell_type": "markdown",
   "id": "46d2e4bd-bf6f-4cdf-97d0-f407fbe81646",
   "metadata": {},
   "source": [
    "✅Observation/Insight: Bhagalpur,Aurangabad, Pallavaram, Karaikudi and Deoghar all recorded the highest count of Regular customers with 6 customers per area."
   ]
  },
  {
   "cell_type": "markdown",
   "id": "71e9dd61-2ff8-40df-89ba-1f50b7c632fd",
   "metadata": {},
   "source": [
    "#### Areas with the highest inactive customers"
   ]
  },
  {
   "cell_type": "code",
   "execution_count": 400,
   "id": "0d1dc661-7570-4260-a4e4-0c8ebe278437",
   "metadata": {},
   "outputs": [],
   "source": [
    "# keep only inactive customers in customer_segment column\n",
    "inactive = business_area[business_area['customer_segment']=='Inactive']"
   ]
  },
  {
   "cell_type": "code",
   "execution_count": 390,
   "id": "c0bb3cd1-dd46-4f76-92c4-7b02b35c9887",
   "metadata": {},
   "outputs": [
    {
     "data": {
      "text/html": [
       "<div>\n",
       "<style scoped>\n",
       "    .dataframe tbody tr th:only-of-type {\n",
       "        vertical-align: middle;\n",
       "    }\n",
       "\n",
       "    .dataframe tbody tr th {\n",
       "        vertical-align: top;\n",
       "    }\n",
       "\n",
       "    .dataframe thead th {\n",
       "        text-align: right;\n",
       "    }\n",
       "</style>\n",
       "<table border=\"1\" class=\"dataframe\">\n",
       "  <thead>\n",
       "    <tr style=\"text-align: right;\">\n",
       "      <th></th>\n",
       "      <th>area</th>\n",
       "      <th>customer_id</th>\n",
       "    </tr>\n",
       "  </thead>\n",
       "  <tbody>\n",
       "    <tr>\n",
       "      <th>0</th>\n",
       "      <td>Ratlam</td>\n",
       "      <td>9</td>\n",
       "    </tr>\n",
       "    <tr>\n",
       "      <th>1</th>\n",
       "      <td>Kadapa</td>\n",
       "      <td>6</td>\n",
       "    </tr>\n",
       "    <tr>\n",
       "      <th>2</th>\n",
       "      <td>Korba</td>\n",
       "      <td>6</td>\n",
       "    </tr>\n",
       "    <tr>\n",
       "      <th>3</th>\n",
       "      <td>Deoghar</td>\n",
       "      <td>6</td>\n",
       "    </tr>\n",
       "    <tr>\n",
       "      <th>4</th>\n",
       "      <td>Gandhinagar</td>\n",
       "      <td>5</td>\n",
       "    </tr>\n",
       "    <tr>\n",
       "      <th>...</th>\n",
       "      <td>...</td>\n",
       "      <td>...</td>\n",
       "    </tr>\n",
       "    <tr>\n",
       "      <th>236</th>\n",
       "      <td>Tiruvottiyur</td>\n",
       "      <td>1</td>\n",
       "    </tr>\n",
       "    <tr>\n",
       "      <th>237</th>\n",
       "      <td>Tinsukia</td>\n",
       "      <td>1</td>\n",
       "    </tr>\n",
       "    <tr>\n",
       "      <th>238</th>\n",
       "      <td>Vadodara</td>\n",
       "      <td>1</td>\n",
       "    </tr>\n",
       "    <tr>\n",
       "      <th>239</th>\n",
       "      <td>Vijayawada</td>\n",
       "      <td>1</td>\n",
       "    </tr>\n",
       "    <tr>\n",
       "      <th>240</th>\n",
       "      <td>Yamunanagar</td>\n",
       "      <td>1</td>\n",
       "    </tr>\n",
       "  </tbody>\n",
       "</table>\n",
       "<p>241 rows × 2 columns</p>\n",
       "</div>"
      ],
      "text/plain": [
       "             area  customer_id\n",
       "0          Ratlam            9\n",
       "1          Kadapa            6\n",
       "2           Korba            6\n",
       "3         Deoghar            6\n",
       "4     Gandhinagar            5\n",
       "..            ...          ...\n",
       "236  Tiruvottiyur            1\n",
       "237      Tinsukia            1\n",
       "238      Vadodara            1\n",
       "239    Vijayawada            1\n",
       "240   Yamunanagar            1\n",
       "\n",
       "[241 rows x 2 columns]"
      ]
     },
     "execution_count": 390,
     "metadata": {},
     "output_type": "execute_result"
    }
   ],
   "source": [
    "inactive.groupby('area')[['customer_id']].nunique().sort_values(by= 'customer_id', ascending=False).reset_index()"
   ]
  },
  {
   "cell_type": "markdown",
   "id": "34813916-7a35-4b11-bf7e-055d9311e819",
   "metadata": {},
   "source": [
    "✅Observation/Insight: Ratlam recorded 9 inactive customers as the highest followed by Kadapa, Korba and Deoghar with a count of 6 customers per area.\n",
    "This insight can inform targeted marketing campaigns and resource allocation to maximize engagement in high value regions."
   ]
  },
  {
   "cell_type": "markdown",
   "id": "eb469344-a654-409e-978c-374e72a8c636",
   "metadata": {},
   "source": [
    "#### Areas with the highest orders"
   ]
  },
  {
   "cell_type": "code",
   "execution_count": 401,
   "id": "89a4b470-2c3c-450e-b150-9f1daf0b890d",
   "metadata": {},
   "outputs": [
    {
     "data": {
      "text/html": [
       "<div>\n",
       "<style scoped>\n",
       "    .dataframe tbody tr th:only-of-type {\n",
       "        vertical-align: middle;\n",
       "    }\n",
       "\n",
       "    .dataframe tbody tr th {\n",
       "        vertical-align: top;\n",
       "    }\n",
       "\n",
       "    .dataframe thead th {\n",
       "        text-align: right;\n",
       "    }\n",
       "</style>\n",
       "<table border=\"1\" class=\"dataframe\">\n",
       "  <thead>\n",
       "    <tr style=\"text-align: right;\">\n",
       "      <th></th>\n",
       "      <th>area</th>\n",
       "      <th>order_id</th>\n",
       "    </tr>\n",
       "  </thead>\n",
       "  <tbody>\n",
       "    <tr>\n",
       "      <th>0</th>\n",
       "      <td>Orai</td>\n",
       "      <td>44</td>\n",
       "    </tr>\n",
       "    <tr>\n",
       "      <th>1</th>\n",
       "      <td>Deoghar</td>\n",
       "      <td>40</td>\n",
       "    </tr>\n",
       "    <tr>\n",
       "      <th>2</th>\n",
       "      <td>Gandhinagar</td>\n",
       "      <td>37</td>\n",
       "    </tr>\n",
       "    <tr>\n",
       "      <th>3</th>\n",
       "      <td>Nandyal</td>\n",
       "      <td>36</td>\n",
       "    </tr>\n",
       "    <tr>\n",
       "      <th>4</th>\n",
       "      <td>Ratlam</td>\n",
       "      <td>35</td>\n",
       "    </tr>\n",
       "    <tr>\n",
       "      <th>...</th>\n",
       "      <td>...</td>\n",
       "      <td>...</td>\n",
       "    </tr>\n",
       "    <tr>\n",
       "      <th>311</th>\n",
       "      <td>Jalandhar</td>\n",
       "      <td>4</td>\n",
       "    </tr>\n",
       "    <tr>\n",
       "      <th>312</th>\n",
       "      <td>Cuttack</td>\n",
       "      <td>4</td>\n",
       "    </tr>\n",
       "    <tr>\n",
       "      <th>313</th>\n",
       "      <td>Raichur</td>\n",
       "      <td>3</td>\n",
       "    </tr>\n",
       "    <tr>\n",
       "      <th>314</th>\n",
       "      <td>Bokaro</td>\n",
       "      <td>2</td>\n",
       "    </tr>\n",
       "    <tr>\n",
       "      <th>315</th>\n",
       "      <td>Mangalore</td>\n",
       "      <td>1</td>\n",
       "    </tr>\n",
       "  </tbody>\n",
       "</table>\n",
       "<p>316 rows × 2 columns</p>\n",
       "</div>"
      ],
      "text/plain": [
       "            area  order_id\n",
       "0           Orai        44\n",
       "1        Deoghar        40\n",
       "2    Gandhinagar        37\n",
       "3        Nandyal        36\n",
       "4         Ratlam        35\n",
       "..           ...       ...\n",
       "311    Jalandhar         4\n",
       "312      Cuttack         4\n",
       "313      Raichur         3\n",
       "314       Bokaro         2\n",
       "315    Mangalore         1\n",
       "\n",
       "[316 rows x 2 columns]"
      ]
     },
     "execution_count": 401,
     "metadata": {},
     "output_type": "execute_result"
    }
   ],
   "source": [
    "# count of order per area\n",
    "business_area.groupby('area')[['order_id']].count().sort_values(by = 'order_id', ascending = False).reset_index()"
   ]
  },
  {
   "cell_type": "markdown",
   "id": "b7e75e13-a581-4d7e-a80c-8496bfe8002c",
   "metadata": {},
   "source": [
    "✅Oservation/Insight: The analysis shows Orai recorded the highest number of customer orders, accounting for 40 orders in total.\n",
    "This suggest a strong customer base and demand concentration in Orai. Targeted marketing and efficient logistics support in this area could further boost sales for Gyeks QuickFarm"
   ]
  },
  {
   "cell_type": "markdown",
   "id": "8da292e2-79b9-4f1b-9cbb-4afd54f67a0a",
   "metadata": {},
   "source": [
    "#### Objective 4: To identify the most demanded product to meet product demand effectively and prioritize stock availability\n",
    "* What is the most demanded product?\n",
    "* What are the top products with the highest number of unique customers?"
   ]
  },
  {
   "cell_type": "markdown",
   "id": "0d81304f-99d7-43cc-9fc4-337e259ad64d",
   "metadata": {},
   "source": [
    "#### Most demanded products"
   ]
  },
  {
   "cell_type": "code",
   "execution_count": 403,
   "id": "eec8e51b-f331-4e04-b7aa-0e66af872f93",
   "metadata": {},
   "outputs": [],
   "source": [
    "# merged product table with order-item\n",
    "product_info = product.merge(order_item, on= 'product_id',how ='inner')"
   ]
  },
  {
   "cell_type": "code",
   "execution_count": 404,
   "id": "c09f54a3-e755-4222-b7b2-56e311c5ee20",
   "metadata": {},
   "outputs": [],
   "source": [
    "#merged product_info with order table\n",
    "product_sales = product_info.merge(order, on= 'order_id', how ='inner')"
   ]
  },
  {
   "cell_type": "code",
   "execution_count": 405,
   "id": "d3cf107b-c373-4d99-a661-21ef5b6abeed",
   "metadata": {},
   "outputs": [
    {
     "data": {
      "text/html": [
       "<div>\n",
       "<style scoped>\n",
       "    .dataframe tbody tr th:only-of-type {\n",
       "        vertical-align: middle;\n",
       "    }\n",
       "\n",
       "    .dataframe tbody tr th {\n",
       "        vertical-align: top;\n",
       "    }\n",
       "\n",
       "    .dataframe thead th {\n",
       "        text-align: right;\n",
       "    }\n",
       "</style>\n",
       "<table border=\"1\" class=\"dataframe\">\n",
       "  <thead>\n",
       "    <tr style=\"text-align: right;\">\n",
       "      <th></th>\n",
       "      <th>product_name</th>\n",
       "      <th>order_id</th>\n",
       "    </tr>\n",
       "  </thead>\n",
       "  <tbody>\n",
       "    <tr>\n",
       "      <th>0</th>\n",
       "      <td>Maize</td>\n",
       "      <td>236</td>\n",
       "    </tr>\n",
       "    <tr>\n",
       "      <th>1</th>\n",
       "      <td>Tangerine</td>\n",
       "      <td>201</td>\n",
       "    </tr>\n",
       "    <tr>\n",
       "      <th>2</th>\n",
       "      <td>Cucumber</td>\n",
       "      <td>182</td>\n",
       "    </tr>\n",
       "    <tr>\n",
       "      <th>3</th>\n",
       "      <td>Sesame Seed</td>\n",
       "      <td>172</td>\n",
       "    </tr>\n",
       "    <tr>\n",
       "      <th>4</th>\n",
       "      <td>Tomato</td>\n",
       "      <td>157</td>\n",
       "    </tr>\n",
       "    <tr>\n",
       "      <th>5</th>\n",
       "      <td>Lime</td>\n",
       "      <td>150</td>\n",
       "    </tr>\n",
       "    <tr>\n",
       "      <th>6</th>\n",
       "      <td>Pineapple</td>\n",
       "      <td>150</td>\n",
       "    </tr>\n",
       "    <tr>\n",
       "      <th>7</th>\n",
       "      <td>Avocado</td>\n",
       "      <td>150</td>\n",
       "    </tr>\n",
       "    <tr>\n",
       "      <th>8</th>\n",
       "      <td>Banana</td>\n",
       "      <td>145</td>\n",
       "    </tr>\n",
       "    <tr>\n",
       "      <th>9</th>\n",
       "      <td>Celosia (Shoko)</td>\n",
       "      <td>138</td>\n",
       "    </tr>\n",
       "    <tr>\n",
       "      <th>10</th>\n",
       "      <td>Sunflower</td>\n",
       "      <td>138</td>\n",
       "    </tr>\n",
       "    <tr>\n",
       "      <th>11</th>\n",
       "      <td>Guava</td>\n",
       "      <td>135</td>\n",
       "    </tr>\n",
       "    <tr>\n",
       "      <th>12</th>\n",
       "      <td>Coconut</td>\n",
       "      <td>131</td>\n",
       "    </tr>\n",
       "    <tr>\n",
       "      <th>13</th>\n",
       "      <td>Waterleaf</td>\n",
       "      <td>121</td>\n",
       "    </tr>\n",
       "    <tr>\n",
       "      <th>14</th>\n",
       "      <td>Lettuce</td>\n",
       "      <td>115</td>\n",
       "    </tr>\n",
       "    <tr>\n",
       "      <th>15</th>\n",
       "      <td>Cocoyam</td>\n",
       "      <td>112</td>\n",
       "    </tr>\n",
       "    <tr>\n",
       "      <th>16</th>\n",
       "      <td>Turmeric</td>\n",
       "      <td>111</td>\n",
       "    </tr>\n",
       "    <tr>\n",
       "      <th>17</th>\n",
       "      <td>Barley</td>\n",
       "      <td>108</td>\n",
       "    </tr>\n",
       "    <tr>\n",
       "      <th>18</th>\n",
       "      <td>Plantain</td>\n",
       "      <td>106</td>\n",
       "    </tr>\n",
       "    <tr>\n",
       "      <th>19</th>\n",
       "      <td>Mango</td>\n",
       "      <td>106</td>\n",
       "    </tr>\n",
       "    <tr>\n",
       "      <th>20</th>\n",
       "      <td>Watermelon</td>\n",
       "      <td>105</td>\n",
       "    </tr>\n",
       "    <tr>\n",
       "      <th>21</th>\n",
       "      <td>Pawpaw (Papaya)</td>\n",
       "      <td>102</td>\n",
       "    </tr>\n",
       "    <tr>\n",
       "      <th>22</th>\n",
       "      <td>Wheat</td>\n",
       "      <td>101</td>\n",
       "    </tr>\n",
       "    <tr>\n",
       "      <th>23</th>\n",
       "      <td>Yam</td>\n",
       "      <td>99</td>\n",
       "    </tr>\n",
       "    <tr>\n",
       "      <th>24</th>\n",
       "      <td>Carrot</td>\n",
       "      <td>98</td>\n",
       "    </tr>\n",
       "    <tr>\n",
       "      <th>25</th>\n",
       "      <td>Garden Egg (Eggplant)</td>\n",
       "      <td>98</td>\n",
       "    </tr>\n",
       "    <tr>\n",
       "      <th>26</th>\n",
       "      <td>Cabbage</td>\n",
       "      <td>96</td>\n",
       "    </tr>\n",
       "    <tr>\n",
       "      <th>27</th>\n",
       "      <td>Scent  Leaf (Basil)</td>\n",
       "      <td>93</td>\n",
       "    </tr>\n",
       "    <tr>\n",
       "      <th>28</th>\n",
       "      <td>Grapefruit</td>\n",
       "      <td>93</td>\n",
       "    </tr>\n",
       "    <tr>\n",
       "      <th>29</th>\n",
       "      <td>Irish Potato</td>\n",
       "      <td>92</td>\n",
       "    </tr>\n",
       "    <tr>\n",
       "      <th>30</th>\n",
       "      <td>Okra</td>\n",
       "      <td>90</td>\n",
       "    </tr>\n",
       "    <tr>\n",
       "      <th>31</th>\n",
       "      <td>Orange</td>\n",
       "      <td>90</td>\n",
       "    </tr>\n",
       "    <tr>\n",
       "      <th>32</th>\n",
       "      <td>Lemon</td>\n",
       "      <td>89</td>\n",
       "    </tr>\n",
       "    <tr>\n",
       "      <th>33</th>\n",
       "      <td>Fluted Pumpkin (Ugu)</td>\n",
       "      <td>83</td>\n",
       "    </tr>\n",
       "    <tr>\n",
       "      <th>34</th>\n",
       "      <td>Amaranth leaves</td>\n",
       "      <td>78</td>\n",
       "    </tr>\n",
       "    <tr>\n",
       "      <th>35</th>\n",
       "      <td>Castor Seed</td>\n",
       "      <td>73</td>\n",
       "    </tr>\n",
       "    <tr>\n",
       "      <th>36</th>\n",
       "      <td>Sweet Potato</td>\n",
       "      <td>71</td>\n",
       "    </tr>\n",
       "    <tr>\n",
       "      <th>37</th>\n",
       "      <td>oziza leave</td>\n",
       "      <td>69</td>\n",
       "    </tr>\n",
       "    <tr>\n",
       "      <th>38</th>\n",
       "      <td>Ginger</td>\n",
       "      <td>67</td>\n",
       "    </tr>\n",
       "    <tr>\n",
       "      <th>39</th>\n",
       "      <td>Soybean</td>\n",
       "      <td>66</td>\n",
       "    </tr>\n",
       "    <tr>\n",
       "      <th>40</th>\n",
       "      <td>Cowpea (Beans)</td>\n",
       "      <td>65</td>\n",
       "    </tr>\n",
       "    <tr>\n",
       "      <th>41</th>\n",
       "      <td>Spinach</td>\n",
       "      <td>55</td>\n",
       "    </tr>\n",
       "    <tr>\n",
       "      <th>42</th>\n",
       "      <td>Cassava</td>\n",
       "      <td>44</td>\n",
       "    </tr>\n",
       "    <tr>\n",
       "      <th>43</th>\n",
       "      <td>Onion</td>\n",
       "      <td>43</td>\n",
       "    </tr>\n",
       "    <tr>\n",
       "      <th>44</th>\n",
       "      <td>Bitterleaf</td>\n",
       "      <td>40</td>\n",
       "    </tr>\n",
       "    <tr>\n",
       "      <th>45</th>\n",
       "      <td>Rice</td>\n",
       "      <td>32</td>\n",
       "    </tr>\n",
       "    <tr>\n",
       "      <th>46</th>\n",
       "      <td>Cashew</td>\n",
       "      <td>31</td>\n",
       "    </tr>\n",
       "    <tr>\n",
       "      <th>47</th>\n",
       "      <td>Pepper</td>\n",
       "      <td>29</td>\n",
       "    </tr>\n",
       "    <tr>\n",
       "      <th>48</th>\n",
       "      <td>Bambara Nut</td>\n",
       "      <td>20</td>\n",
       "    </tr>\n",
       "    <tr>\n",
       "      <th>49</th>\n",
       "      <td>Groundnut</td>\n",
       "      <td>13</td>\n",
       "    </tr>\n",
       "    <tr>\n",
       "      <th>50</th>\n",
       "      <td>Millet</td>\n",
       "      <td>11</td>\n",
       "    </tr>\n",
       "  </tbody>\n",
       "</table>\n",
       "</div>"
      ],
      "text/plain": [
       "             product_name  order_id\n",
       "0                   Maize       236\n",
       "1               Tangerine       201\n",
       "2                Cucumber       182\n",
       "3             Sesame Seed       172\n",
       "4                  Tomato       157\n",
       "5                    Lime       150\n",
       "6               Pineapple       150\n",
       "7                 Avocado       150\n",
       "8                  Banana       145\n",
       "9         Celosia (Shoko)       138\n",
       "10              Sunflower       138\n",
       "11                  Guava       135\n",
       "12                Coconut       131\n",
       "13              Waterleaf       121\n",
       "14                Lettuce       115\n",
       "15                Cocoyam       112\n",
       "16               Turmeric       111\n",
       "17                 Barley       108\n",
       "18               Plantain       106\n",
       "19                  Mango       106\n",
       "20             Watermelon       105\n",
       "21        Pawpaw (Papaya)       102\n",
       "22                  Wheat       101\n",
       "23                    Yam        99\n",
       "24                 Carrot        98\n",
       "25  Garden Egg (Eggplant)        98\n",
       "26                Cabbage        96\n",
       "27    Scent  Leaf (Basil)        93\n",
       "28             Grapefruit        93\n",
       "29           Irish Potato        92\n",
       "30                   Okra        90\n",
       "31                 Orange        90\n",
       "32                  Lemon        89\n",
       "33   Fluted Pumpkin (Ugu)        83\n",
       "34        Amaranth leaves        78\n",
       "35            Castor Seed        73\n",
       "36           Sweet Potato        71\n",
       "37            oziza leave        69\n",
       "38                 Ginger        67\n",
       "39                Soybean        66\n",
       "40         Cowpea (Beans)        65\n",
       "41                Spinach        55\n",
       "42                Cassava        44\n",
       "43                  Onion        43\n",
       "44             Bitterleaf        40\n",
       "45                   Rice        32\n",
       "46                 Cashew        31\n",
       "47                 Pepper        29\n",
       "48            Bambara Nut        20\n",
       "49              Groundnut        13\n",
       "50                 Millet        11"
      ]
     },
     "execution_count": 405,
     "metadata": {},
     "output_type": "execute_result"
    }
   ],
   "source": [
    "#count of order per product\n",
    "product_sales.groupby('product_name')[['order_id']].count().sort_values(by= 'order_id', ascending =False).reset_index()"
   ]
  },
  {
   "cell_type": "markdown",
   "id": "3d73f8d9-ec52-45aa-b300-f65f484aecb4",
   "metadata": {},
   "source": [
    "✅Observation/Insight: Maize emerged as the most demanded product, recording the highest number of orders (236 orders). This highlights its dominance in overall sales volume."
   ]
  },
  {
   "cell_type": "markdown",
   "id": "4751b5b1-f38e-4317-8d71-6aa98060fcab",
   "metadata": {},
   "source": [
    "#### Products with the highest unique customers"
   ]
  },
  {
   "cell_type": "code",
   "execution_count": 406,
   "id": "8fc1b1d0-64d5-40d6-8ce2-12f242213dca",
   "metadata": {},
   "outputs": [
    {
     "data": {
      "text/html": [
       "<div>\n",
       "<style scoped>\n",
       "    .dataframe tbody tr th:only-of-type {\n",
       "        vertical-align: middle;\n",
       "    }\n",
       "\n",
       "    .dataframe tbody tr th {\n",
       "        vertical-align: top;\n",
       "    }\n",
       "\n",
       "    .dataframe thead th {\n",
       "        text-align: right;\n",
       "    }\n",
       "</style>\n",
       "<table border=\"1\" class=\"dataframe\">\n",
       "  <thead>\n",
       "    <tr style=\"text-align: right;\">\n",
       "      <th></th>\n",
       "      <th>product_name</th>\n",
       "      <th>customer_id</th>\n",
       "    </tr>\n",
       "  </thead>\n",
       "  <tbody>\n",
       "    <tr>\n",
       "      <th>0</th>\n",
       "      <td>Maize</td>\n",
       "      <td>226</td>\n",
       "    </tr>\n",
       "    <tr>\n",
       "      <th>1</th>\n",
       "      <td>Tangerine</td>\n",
       "      <td>193</td>\n",
       "    </tr>\n",
       "    <tr>\n",
       "      <th>2</th>\n",
       "      <td>Cucumber</td>\n",
       "      <td>177</td>\n",
       "    </tr>\n",
       "    <tr>\n",
       "      <th>3</th>\n",
       "      <td>Sesame Seed</td>\n",
       "      <td>160</td>\n",
       "    </tr>\n",
       "    <tr>\n",
       "      <th>4</th>\n",
       "      <td>Tomato</td>\n",
       "      <td>153</td>\n",
       "    </tr>\n",
       "    <tr>\n",
       "      <th>5</th>\n",
       "      <td>Avocado</td>\n",
       "      <td>148</td>\n",
       "    </tr>\n",
       "    <tr>\n",
       "      <th>6</th>\n",
       "      <td>Pineapple</td>\n",
       "      <td>144</td>\n",
       "    </tr>\n",
       "    <tr>\n",
       "      <th>7</th>\n",
       "      <td>Lime</td>\n",
       "      <td>143</td>\n",
       "    </tr>\n",
       "    <tr>\n",
       "      <th>8</th>\n",
       "      <td>Banana</td>\n",
       "      <td>138</td>\n",
       "    </tr>\n",
       "    <tr>\n",
       "      <th>9</th>\n",
       "      <td>Sunflower</td>\n",
       "      <td>136</td>\n",
       "    </tr>\n",
       "    <tr>\n",
       "      <th>10</th>\n",
       "      <td>Guava</td>\n",
       "      <td>133</td>\n",
       "    </tr>\n",
       "    <tr>\n",
       "      <th>11</th>\n",
       "      <td>Celosia (Shoko)</td>\n",
       "      <td>131</td>\n",
       "    </tr>\n",
       "    <tr>\n",
       "      <th>12</th>\n",
       "      <td>Coconut</td>\n",
       "      <td>130</td>\n",
       "    </tr>\n",
       "    <tr>\n",
       "      <th>13</th>\n",
       "      <td>Waterleaf</td>\n",
       "      <td>118</td>\n",
       "    </tr>\n",
       "    <tr>\n",
       "      <th>14</th>\n",
       "      <td>Cocoyam</td>\n",
       "      <td>112</td>\n",
       "    </tr>\n",
       "    <tr>\n",
       "      <th>15</th>\n",
       "      <td>Lettuce</td>\n",
       "      <td>112</td>\n",
       "    </tr>\n",
       "    <tr>\n",
       "      <th>16</th>\n",
       "      <td>Turmeric</td>\n",
       "      <td>109</td>\n",
       "    </tr>\n",
       "    <tr>\n",
       "      <th>17</th>\n",
       "      <td>Barley</td>\n",
       "      <td>106</td>\n",
       "    </tr>\n",
       "    <tr>\n",
       "      <th>18</th>\n",
       "      <td>Plantain</td>\n",
       "      <td>104</td>\n",
       "    </tr>\n",
       "    <tr>\n",
       "      <th>19</th>\n",
       "      <td>Watermelon</td>\n",
       "      <td>104</td>\n",
       "    </tr>\n",
       "    <tr>\n",
       "      <th>20</th>\n",
       "      <td>Mango</td>\n",
       "      <td>102</td>\n",
       "    </tr>\n",
       "    <tr>\n",
       "      <th>21</th>\n",
       "      <td>Wheat</td>\n",
       "      <td>100</td>\n",
       "    </tr>\n",
       "    <tr>\n",
       "      <th>22</th>\n",
       "      <td>Carrot</td>\n",
       "      <td>98</td>\n",
       "    </tr>\n",
       "    <tr>\n",
       "      <th>23</th>\n",
       "      <td>Yam</td>\n",
       "      <td>98</td>\n",
       "    </tr>\n",
       "    <tr>\n",
       "      <th>24</th>\n",
       "      <td>Pawpaw (Papaya)</td>\n",
       "      <td>97</td>\n",
       "    </tr>\n",
       "    <tr>\n",
       "      <th>25</th>\n",
       "      <td>Cabbage</td>\n",
       "      <td>96</td>\n",
       "    </tr>\n",
       "    <tr>\n",
       "      <th>26</th>\n",
       "      <td>Garden Egg (Eggplant)</td>\n",
       "      <td>95</td>\n",
       "    </tr>\n",
       "    <tr>\n",
       "      <th>27</th>\n",
       "      <td>Scent  Leaf (Basil)</td>\n",
       "      <td>92</td>\n",
       "    </tr>\n",
       "    <tr>\n",
       "      <th>28</th>\n",
       "      <td>Irish Potato</td>\n",
       "      <td>91</td>\n",
       "    </tr>\n",
       "    <tr>\n",
       "      <th>29</th>\n",
       "      <td>Grapefruit</td>\n",
       "      <td>90</td>\n",
       "    </tr>\n",
       "    <tr>\n",
       "      <th>30</th>\n",
       "      <td>Lemon</td>\n",
       "      <td>89</td>\n",
       "    </tr>\n",
       "    <tr>\n",
       "      <th>31</th>\n",
       "      <td>Okra</td>\n",
       "      <td>89</td>\n",
       "    </tr>\n",
       "    <tr>\n",
       "      <th>32</th>\n",
       "      <td>Orange</td>\n",
       "      <td>88</td>\n",
       "    </tr>\n",
       "    <tr>\n",
       "      <th>33</th>\n",
       "      <td>Fluted Pumpkin (Ugu)</td>\n",
       "      <td>83</td>\n",
       "    </tr>\n",
       "    <tr>\n",
       "      <th>34</th>\n",
       "      <td>Amaranth leaves</td>\n",
       "      <td>77</td>\n",
       "    </tr>\n",
       "    <tr>\n",
       "      <th>35</th>\n",
       "      <td>Castor Seed</td>\n",
       "      <td>72</td>\n",
       "    </tr>\n",
       "    <tr>\n",
       "      <th>36</th>\n",
       "      <td>Sweet Potato</td>\n",
       "      <td>69</td>\n",
       "    </tr>\n",
       "    <tr>\n",
       "      <th>37</th>\n",
       "      <td>oziza leave</td>\n",
       "      <td>67</td>\n",
       "    </tr>\n",
       "    <tr>\n",
       "      <th>38</th>\n",
       "      <td>Soybean</td>\n",
       "      <td>66</td>\n",
       "    </tr>\n",
       "    <tr>\n",
       "      <th>39</th>\n",
       "      <td>Ginger</td>\n",
       "      <td>65</td>\n",
       "    </tr>\n",
       "    <tr>\n",
       "      <th>40</th>\n",
       "      <td>Cowpea (Beans)</td>\n",
       "      <td>64</td>\n",
       "    </tr>\n",
       "    <tr>\n",
       "      <th>41</th>\n",
       "      <td>Spinach</td>\n",
       "      <td>54</td>\n",
       "    </tr>\n",
       "    <tr>\n",
       "      <th>42</th>\n",
       "      <td>Cassava</td>\n",
       "      <td>43</td>\n",
       "    </tr>\n",
       "    <tr>\n",
       "      <th>43</th>\n",
       "      <td>Onion</td>\n",
       "      <td>43</td>\n",
       "    </tr>\n",
       "    <tr>\n",
       "      <th>44</th>\n",
       "      <td>Bitterleaf</td>\n",
       "      <td>40</td>\n",
       "    </tr>\n",
       "    <tr>\n",
       "      <th>45</th>\n",
       "      <td>Rice</td>\n",
       "      <td>32</td>\n",
       "    </tr>\n",
       "    <tr>\n",
       "      <th>46</th>\n",
       "      <td>Cashew</td>\n",
       "      <td>31</td>\n",
       "    </tr>\n",
       "    <tr>\n",
       "      <th>47</th>\n",
       "      <td>Pepper</td>\n",
       "      <td>29</td>\n",
       "    </tr>\n",
       "    <tr>\n",
       "      <th>48</th>\n",
       "      <td>Bambara Nut</td>\n",
       "      <td>20</td>\n",
       "    </tr>\n",
       "    <tr>\n",
       "      <th>49</th>\n",
       "      <td>Groundnut</td>\n",
       "      <td>12</td>\n",
       "    </tr>\n",
       "    <tr>\n",
       "      <th>50</th>\n",
       "      <td>Millet</td>\n",
       "      <td>11</td>\n",
       "    </tr>\n",
       "  </tbody>\n",
       "</table>\n",
       "</div>"
      ],
      "text/plain": [
       "             product_name  customer_id\n",
       "0                   Maize          226\n",
       "1               Tangerine          193\n",
       "2                Cucumber          177\n",
       "3             Sesame Seed          160\n",
       "4                  Tomato          153\n",
       "5                 Avocado          148\n",
       "6               Pineapple          144\n",
       "7                    Lime          143\n",
       "8                  Banana          138\n",
       "9               Sunflower          136\n",
       "10                  Guava          133\n",
       "11        Celosia (Shoko)          131\n",
       "12                Coconut          130\n",
       "13              Waterleaf          118\n",
       "14                Cocoyam          112\n",
       "15                Lettuce          112\n",
       "16               Turmeric          109\n",
       "17                 Barley          106\n",
       "18               Plantain          104\n",
       "19             Watermelon          104\n",
       "20                  Mango          102\n",
       "21                  Wheat          100\n",
       "22                 Carrot           98\n",
       "23                    Yam           98\n",
       "24        Pawpaw (Papaya)           97\n",
       "25                Cabbage           96\n",
       "26  Garden Egg (Eggplant)           95\n",
       "27    Scent  Leaf (Basil)           92\n",
       "28           Irish Potato           91\n",
       "29             Grapefruit           90\n",
       "30                  Lemon           89\n",
       "31                   Okra           89\n",
       "32                 Orange           88\n",
       "33   Fluted Pumpkin (Ugu)           83\n",
       "34        Amaranth leaves           77\n",
       "35            Castor Seed           72\n",
       "36           Sweet Potato           69\n",
       "37            oziza leave           67\n",
       "38                Soybean           66\n",
       "39                 Ginger           65\n",
       "40         Cowpea (Beans)           64\n",
       "41                Spinach           54\n",
       "42                Cassava           43\n",
       "43                  Onion           43\n",
       "44             Bitterleaf           40\n",
       "45                   Rice           32\n",
       "46                 Cashew           31\n",
       "47                 Pepper           29\n",
       "48            Bambara Nut           20\n",
       "49              Groundnut           12\n",
       "50                 Millet           11"
      ]
     },
     "execution_count": 406,
     "metadata": {},
     "output_type": "execute_result"
    }
   ],
   "source": [
    "#count of uniquecustmer_id per product \n",
    "product_sales.groupby('product_name')[['customer_id']].nunique().sort_values(by ='customer_id', ascending= False).reset_index()"
   ]
  },
  {
   "cell_type": "markdown",
   "id": "412a5e9c-adb6-421d-a916-587dff4df9f5",
   "metadata": {},
   "source": [
    "✅Observation/Insight: Maize also emerged as the most preferred product, with 226 distinct customers purchasing it, reflecting broad appeal across the customer base."
   ]
  }
 ],
 "metadata": {
  "kernelspec": {
   "display_name": "Python 3 (ipykernel)",
   "language": "python",
   "name": "python3"
  },
  "language_info": {
   "codemirror_mode": {
    "name": "ipython",
    "version": 3
   },
   "file_extension": ".py",
   "mimetype": "text/x-python",
   "name": "python",
   "nbconvert_exporter": "python",
   "pygments_lexer": "ipython3",
   "version": "3.12.5"
  }
 },
 "nbformat": 4,
 "nbformat_minor": 5
}
